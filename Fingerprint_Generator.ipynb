{
 "cells": [
  {
   "cell_type": "code",
   "execution_count": 6,
   "id": "d307cb60",
   "metadata": {},
   "outputs": [
    {
     "name": "stdout",
     "output_type": "stream",
     "text": [
      "The key fingerprint is:\n",
      "SHA256:ec9c6424e06f4f2bc2d5154a3e1f73a583c3a7d89e033cec2e4bcda88c085a8c hamed.semsarian@gmail.com\n",
      "The key's randomart image is:\n",
      "+---------------+\n",
      "|.=A!^#E%. *+!*+|\n",
      "|==H!H^Do^#  =#*|\n",
      "|D*$!%D HAA. H=*|\n",
      "|!^.$@%oEMo=+oM+|\n",
      "|HMA^^ D  %+  .*|\n",
      "|EM^D*+DA E*$H$M|\n",
      "|.M+%o+AMM@=oD*#|\n",
      "|%^M$+o@^H=D^=D@|\n",
      "|@D#^ME+^!DHE.=$|\n",
      "| #@^DE.%^^ +DAE|\n",
      "+---------------+\n"
     ]
    }
   ],
   "source": [
    "import hashlib\n",
    "import random\n",
    "\n",
    "def generate_fingerprint(email, key_type=\"RSA 4096\"):\n",
    "    random_key = f\"key-{random.randint(1, 100000)}\"\n",
    "    \n",
    "    key_fingerprint = hashlib.sha256(random_key.encode()).hexdigest()\n",
    "    formatted_fingerprint = \"SHA256:\" + key_fingerprint\n",
    "    \n",
    "    random_art = []\n",
    "    symbols = [\" \", \".\", \"o\", \"+\", \"=\", \"*\", \"$\", \"#\", \"^\", \"%\", \"@\", \"!\", \"H\", \"A\", \"M\", \"E\", \"D\"]\n",
    "    for _ in range(10):\n",
    "        row = \"\".join(random.choices(symbols, k=15))\n",
    "        random_art.append(\"|\" + row + \"|\")\n",
    "    \n",
    "    border = \"+\" + \"-\"*15 + \"+\"\n",
    "    \n",
    "    output = f\"The key fingerprint is:\\n{formatted_fingerprint} {email}\\nThe key's randomart image is:\\n{border}\\n\" + \"\\n\".join(random_art) + f\"\\n{border}\"\n",
    "    return output\n",
    "\n",
    "email = \"hamed.semsarian@gmail.com\"\n",
    "output = generate_fingerprint(email)\n",
    "\n",
    "print(output)\n"
   ]
  },
  {
   "cell_type": "code",
   "execution_count": null,
   "id": "9231d0da",
   "metadata": {},
   "outputs": [],
   "source": []
  }
 ],
 "metadata": {
  "kernelspec": {
   "display_name": "Python 3 (ipykernel)",
   "language": "python",
   "name": "python3"
  },
  "language_info": {
   "codemirror_mode": {
    "name": "ipython",
    "version": 3
   },
   "file_extension": ".py",
   "mimetype": "text/x-python",
   "name": "python",
   "nbconvert_exporter": "python",
   "pygments_lexer": "ipython3",
   "version": "3.9.18"
  }
 },
 "nbformat": 4,
 "nbformat_minor": 5
}
